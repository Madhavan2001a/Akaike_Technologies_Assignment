{
  "nbformat": 4,
  "nbformat_minor": 0,
  "metadata": {
    "colab": {
      "provenance": []
    },
    "kernelspec": {
      "name": "python3",
      "display_name": "Python 3"
    },
    "language_info": {
      "name": "python"
    }
  },
  "cells": [
    {
      "cell_type": "markdown",
      "source": [
        "# **Interactive MCQ Generator with NLP's Spacy Library**"
      ],
      "metadata": {
        "id": "uqGo56kjdXwA"
      }
    },
    {
      "cell_type": "markdown",
      "source": [
        "The problem statement is to develop a solution that can automatically generate objective questions with multiple correct answers based on a given chapter from a subject. These questions should test the reader's understanding of the chapter and have more than one possible correct answer to increase the complexity and challenge of the questions. The objective is to create engaging and challenging assessments for students."
      ],
      "metadata": {
        "id": "FsTQuo18d0ak"
      }
    },
    {
      "cell_type": "markdown",
      "source": [
        "# **Integration of Automated Question Generation in Educational Spheres:**"
      ],
      "metadata": {
        "id": "qHKJXlHterkT"
      }
    },
    {
      "cell_type": "markdown",
      "source": [
        "- **Enriching Assessment Diversity in Academia:**\n",
        "  - Aiding educators in creating a broad range of multiple-choice questions for comprehensive evaluations.\n",
        "\n",
        "**Seamless Integration with Virtual Learning Platforms:**\n",
        "  - Streamlining the creation of interactive quizzes and assessments for enhanced online learning experiences.\n",
        "\n",
        "**Optimizing Content Creation in Publishing:**\n",
        "  - Automating the generation of tailored question banks for efficient educational resource development.\n",
        "\n",
        "**Personalized Learning Support in Test Preparation Services:**\n",
        "  - Customizing practice tests to cater to individual learning needs, fostering improved exam readiness and academic performance."
      ],
      "metadata": {
        "id": "prHlAYw_ewlD"
      }
    },
    {
      "cell_type": "markdown",
      "source": [
        "# **Anticipated Outcome :**"
      ],
      "metadata": {
        "id": "X4xe5Q3Fnn10"
      }
    },
    {
      "cell_type": "markdown",
      "source": [
        "- Development of a robust NLP-based system capable of generating multiple-choice questions with multiple correct answers from a provided chapter text.\n",
        "- Intuitive integration of the solution into various educational platforms to enable educators to create engaging and comprehensive assessments.\n",
        "- Emphasis on precision, efficiency, and user-friendliness to ensure seamless incorporation within different educational workflows.\n",
        "- Encouragement of critical thinking and exploration through the presentation of questions with multiple accurate responses, thereby promoting comprehensive understanding from diverse viewpoints.\n",
        "- Facilitation of an interactive learning experience that challenges students to comprehend the subject matter from various angles and encourages exploration of different perspectives."
      ],
      "metadata": {
        "id": "32n7YNxVnad_"
      }
    },
    {
      "cell_type": "markdown",
      "source": [
        "# **Importing the needed libraries**"
      ],
      "metadata": {
        "id": "qKYVt3vrUgZe"
      }
    },
    {
      "cell_type": "code",
      "source": [
        "import spacy\n",
        "import random"
      ],
      "metadata": {
        "id": "ks22rceuI9FP"
      },
      "execution_count": 1,
      "outputs": []
    },
    {
      "cell_type": "markdown",
      "source": [
        "**Spacy :**\n",
        "The spacy library can be used to parse the text of the chapter, extract meaningful information, identify important concepts, and process the content to generate the objective questions.\n",
        "\n",
        "**random :**\n",
        " The random library is being used to introduce randomness into the selection of sentences, words, and options within the generated questions. This randomness helps in creating diverse and unpredictable multiple-choice questions, enhancing the complexity and challenge of the assessments, as stated in the problem statement.\n",
        "\n",
        "\n",
        "\n",
        "\n",
        "\n"
      ],
      "metadata": {
        "id": "qZJNmwEjWkxh"
      }
    },
    {
      "cell_type": "markdown",
      "source": [
        "# **Loading the model for Processing and Analyzing text**"
      ],
      "metadata": {
        "id": "vUq6Jk1iUzdG"
      }
    },
    {
      "cell_type": "code",
      "source": [
        "nlp = spacy.load(\"en_core_web_sm\")"
      ],
      "metadata": {
        "id": "Q4nO9jjOI9HX"
      },
      "execution_count": 2,
      "outputs": []
    },
    {
      "cell_type": "markdown",
      "source": [
        "The function spacy.load() is used to load a specific language model for processing natural language text. Here, the language model being loaded is \"en_core_web_sm,\" which is a pre-trained English language model provided by spaCy.\n",
        "\n",
        "**Language Processing :** The \"en_core_web_sm\" model is designed for English language processing. It includes various components and linguistic annotations for tasks such as part-of-speech tagging, dependency parsing, named entity recognition, and more.\n",
        "\n"
      ],
      "metadata": {
        "id": "vce8Q7cKXpm2"
      }
    },
    {
      "cell_type": "markdown",
      "source": [
        "# **Defining Function and Feeding Arguments**"
      ],
      "metadata": {
        "id": "PHKZnX3uVDeG"
      }
    },
    {
      "cell_type": "code",
      "source": [
        "def get_mca_questions(context: str, num_questions: int):\n",
        "  doc = nlp(context)"
      ],
      "metadata": {
        "id": "iiNiaiAmI9JM"
      },
      "execution_count": 3,
      "outputs": []
    },
    {
      "cell_type": "markdown",
      "source": [
        "The function **get_mca_questions** is defined with two parameters : context of type str and num_questions of type int. This function appears to be part of the solution designed to automatically generate multiple-choice questions with multiple correct answers based on a given context or chapter.\n",
        "\n",
        "**doc = nlp(context)** serves the purpose of processing the textual context using the spaCy language model. This step enables the extraction of meaningful information from the text, which is crucial for generating multiple-choice questions with multiple correct answers based on the content of the chapter or subject."
      ],
      "metadata": {
        "id": "t6zimJGdYl4L"
      }
    },
    {
      "cell_type": "markdown",
      "source": [
        "# **Defining the MCQ Generation**"
      ],
      "metadata": {
        "id": "UPLKZvTFVb1m"
      }
    },
    {
      "cell_type": "code",
      "source": [
        "def generate_mcq_with_multiple_correct(question, correct_answers, other_options, num_options=4):\n",
        "        options = correct_answers + other_options\n",
        "        random.shuffle(options)\n",
        "\n",
        "        mcq = {\n",
        "            \"question\": question,\n",
        "            \"options\": options,\n",
        "            \"correct_answers\": correct_answers\n",
        "        }"
      ],
      "metadata": {
        "id": "xb10ppaYI9LO"
      },
      "execution_count": 4,
      "outputs": []
    },
    {
      "cell_type": "markdown",
      "source": [
        "\n",
        "The function **generate_mcq_with_multiple_correct** takes in several parameters, including question, correct_answers, and other_options, to create a multiple-choice question with multiple correct answers.\n",
        "\n",
        "This function serves the purpose of constructing a multiple-choice question (MCQ) with various possible answers. By combining the correct_answers with other_options and shuffling them randomly, the function generates a well-formed MCQ. The resulting question, along with its options and the correct answers, is structured and stored within the mcq dictionary, facilitating the creation of engaging and challenging assessments for the readers."
      ],
      "metadata": {
        "id": "BAzvFXY1ZT9U"
      }
    },
    {
      "cell_type": "code",
      "source": [
        "def generate_variety_question():\n",
        "        # randomly select the sentence from content\n",
        "        sentence = random.choice(list(doc.sents))\n",
        "\n",
        "        # randomly choose non- pronounciation words from sentence as blank word\n",
        "        blank_word = random.choice([token for token in sentence if not token.is_punct])\n",
        "\n",
        "        # create a question text with blank word ----\n",
        "        question_text = sentence.text.replace(blank_word.text, \"______\")\n",
        "\n",
        "        #set correct answers to the blank word\n",
        "        correct_answers = [blank_word.text]\n",
        "\n",
        "        #generating other possible answers\n",
        "        other_options = [token.text for token in doc if token.is_alpha and token.text != correct_answers[0]]\n",
        "\n",
        "        #randonly determine how many correct options\n",
        "        num_correct_options = random.randint(1, 2)\n",
        "\n",
        "        #randomly select correct options to the list of options\n",
        "        correct_answers.extend(random.sample(other_options, num_correct_options))\n",
        "\n",
        "        # no of incorrect answers\n",
        "        num_other_options = min(4 - num_correct_options, len(other_options))\n",
        "        other_options = random.sample(other_options, num_other_options)\n",
        "\n",
        "        #generationg final MCQ\n",
        "        mcq = generate_mcq_with_multiple_correct(question_text, correct_answers, other_options)\n",
        "        return mcq"
      ],
      "metadata": {
        "id": "wVW5HXWMI9NG"
      },
      "execution_count": 5,
      "outputs": []
    },
    {
      "cell_type": "markdown",
      "source": [
        "- The function  `generate_variety_question` selects a random sentence from the text content.\n",
        "- It picks a word within the sentence, excluding any punctuation, to act as the blank word for the question.\n",
        "- The selected word is replaced with \"______\" to form the question text.\n",
        "- The function sets the `correct_answers` to the chosen word and generates other potential answers (`other_options`) from the text, excluding the correct answer.\n",
        "- It randomly determines the number of correct options and appends them to the list of options.\n",
        "- The function also determines the number of incorrect options and selects them randomly.\n",
        "- Finally, the function utilizes `generate_mcq_with_multiple_correct` to construct the final multiple-choice question (MCQ) with the question text, options, and correct answers."
      ],
      "metadata": {
        "id": "N-T2_kqYZ2F2"
      }
    },
    {
      "cell_type": "markdown",
      "source": [
        "# **Print Questions Test Code**"
      ],
      "metadata": {
        "id": "kzhk28FfUHft"
      }
    },
    {
      "cell_type": "code",
      "source": [
        "# Function to format a list of multiple-choice questions\n",
        "def format_mca_questions(questions):\n",
        "    mca_questions = []\n",
        "\n",
        "    # Iterate over each question in the list\n",
        "    for index, question in enumerate(questions, start=1):\n",
        "        # Construct the string for the question number and text\n",
        "        question_text = f\"Question {index}: {question['question']}\\n\"\n",
        "        options_text = \"\"\n",
        "\n",
        "        # Iterate through the options for the current question\n",
        "        for option_index, option in enumerate(question['options']):\n",
        "            # Format each option with a unique lowercase letter\n",
        "            options_text += f\"{chr(97 + option_index)}. {option}\\n\"\n",
        "\n",
        "        # Format the correct options into a human-readable format\n",
        "        correct_options_formatted = \" and \".join([f\"({chr(97 + question['options'].index(answer))})\" for answer in question['correct_answers']])\n",
        "        correct_options_text = f\"Correct Options: {correct_options_formatted}\"\n",
        "\n",
        "        # Construct the formatted multiple-choice question\n",
        "        mca_question = f\"{question_text}{options_text}{correct_options_text}\\n\"\n",
        "        mca_questions.append(mca_question)\n",
        "\n",
        "    # Return the list of formatted multiple-choice questions\n",
        "    return mca_questions\n",
        "\n",
        "# Example usage of the function with sample data\n",
        "questions = [\n",
        "    {\n",
        "        \"question\": \"Sample question 1\",\n",
        "        \"options\": [\"Option 1\", \"Option 2\", \"Option 3\", \"Option 4\"],\n",
        "        \"correct_answers\": [\"Option 1\"]\n",
        "    },\n",
        "    {\n",
        "        \"question\": \"Sample question 2\",\n",
        "        \"options\": [\"Option A\", \"Option B\", \"Option C\", \"Option D\"],\n",
        "        \"correct_answers\": [\"Option B\", \"Option D\"]\n",
        "    },\n",
        "    # Add more questions as needed\n",
        "]\n",
        "\n",
        "# Call the function to format the multiple-choice questions\n",
        "formatted_questions = format_mca_questions(questions)\n",
        "\n",
        "# Print the formatted multiple-choice questions\n",
        "for question in formatted_questions:\n",
        "    print(question)\n",
        "\n"
      ],
      "metadata": {
        "colab": {
          "base_uri": "https://localhost:8080/"
        },
        "id": "l4pM506EI9PE",
        "outputId": "4769ffae-843a-47ea-d956-2e772d94ff84"
      },
      "execution_count": 6,
      "outputs": [
        {
          "output_type": "stream",
          "name": "stdout",
          "text": [
            "Question 1: Sample question 1\n",
            "a. Option 1\n",
            "b. Option 2\n",
            "c. Option 3\n",
            "d. Option 4\n",
            "Correct Options: (a)\n",
            "\n",
            "Question 2: Sample question 2\n",
            "a. Option A\n",
            "b. Option B\n",
            "c. Option C\n",
            "d. Option D\n",
            "Correct Options: (b) and (d)\n",
            "\n"
          ]
        }
      ]
    },
    {
      "cell_type": "markdown",
      "source": [
        "- The `format_mca_questions` function is intended to format a list of multiple-choice questions.\n",
        "- It initializes an empty list `mca_questions` to store the formatted questions.\n",
        "- The function iterates through each question in the provided list, extracting the question text and formatting it with a unique question number.\n",
        "- It iterates through the options for each question, assigning a lowercase letter to each option for distinction.\n",
        "- The function formats the correct options into a human-readable form, indicating the correct choices for the questions.\n",
        "- Using the constructed components, the function assembles a well-formatted multiple-choice question string and appends it to the `mca_questions` list.\n",
        "- Upon completing the iteration, the function returns the list of formatted multiple-choice questions.\n",
        "- An example usage of the function is demonstrated with sample data, where questions are provided along with their options and correct answers.\n",
        "- Finally, the formatted multiple-choice questions are printed out for display."
      ],
      "metadata": {
        "id": "oPoQgCTtaYjH"
      }
    },
    {
      "cell_type": "markdown",
      "source": [
        "# **Final output Code for MCQ Generation**"
      ],
      "metadata": {
        "id": "D1sILdbFTz8c"
      }
    },
    {
      "cell_type": "code",
      "source": [
        "# Function to generate multiple-choice questions based on the provided context and the number of questions\n",
        "def get_mca_questions(context: str, num_questions: int):\n",
        "    # Process the input paragraph using the loaded language model\n",
        "    doc = nlp(context)\n",
        "\n",
        "    # Function to generate a multiple-choice question with multiple correct answers\n",
        "    def generate_mcq_with_multiple_correct(question, correct_answers, other_options, num_options=4):\n",
        "        options = correct_answers + other_options\n",
        "        random.shuffle(options)\n",
        "\n",
        "        # Create a dictionary to store the question, options, and correct answers\n",
        "        mcq = {\n",
        "            \"question\": question,\n",
        "            \"options\": options,\n",
        "            \"correct_answers\": correct_answers\n",
        "        }\n",
        "\n",
        "        return mcq\n",
        "\n",
        "    # Function to generate a variety of questions with randomized blanks\n",
        "    def generate_variety_question():\n",
        "        # Select a random sentence from the processed document\n",
        "        sentence = random.choice(list(doc.sents))\n",
        "\n",
        "        # Choose a word from the sentence to replace with a blank\n",
        "        blank_word = random.choice([token for token in sentence if not token.is_punct])\n",
        "\n",
        "        # Replace the chosen word with a blank in the sentence\n",
        "        question_text = sentence.text.replace(blank_word.text, \"______\")\n",
        "        correct_answers = [blank_word.text]\n",
        "\n",
        "        other_options = [token.text for token in doc if token.is_alpha and token.text != correct_answers[0]]\n",
        "        num_correct_options = random.randint(1, 2)  # Generate 1 or 2 correct options\n",
        "        correct_answers.extend(random.sample(other_options, num_correct_options))\n",
        "\n",
        "        num_other_options = min(4 - num_correct_options, len(other_options))\n",
        "        other_options = random.sample(other_options, num_other_options)\n",
        "\n",
        "        mcq = generate_mcq_with_multiple_correct(question_text, correct_answers, other_options)\n",
        "        return mcq\n",
        "\n",
        "    # Generate a list of multiple-choice questions based on the randomly generated questions\n",
        "    questions = [generate_variety_question() for _ in range(num_questions)]\n",
        "\n",
        "    # Format the generated questions and their options into a human-readable form\n",
        "    mca_questions = []\n",
        "    for i, question in enumerate(questions, start=1):\n",
        "        question_str = f\"Q{i}: {question['question']}\\n\"\n",
        "        options_str = \"\"\n",
        "        for j, option in enumerate(question['options']):\n",
        "            options_str += f\"{j+1}. {option}\\n\"\n",
        "\n",
        "        correct_options_formatted = \" & \".join([f\"({chr(97+question['options'].index(ans))})\" for ans in question['correct_answers']])\n",
        "        correct_options_str = f\"Correct Options: {correct_options_formatted}\"\n",
        "\n",
        "        # Create the formatted multiple-choice question string\n",
        "        mca_question = f\"{question_str}{options_str}{correct_options_str}\\n\"\n",
        "        mca_questions.append(mca_question)\n",
        "\n",
        "    # Return the list of formatted multiple-choice questions\n",
        "    return mca_questions\n",
        "\n",
        "# Accept user input for the paragraph and the number of questions to generate\n",
        "context = input(\"Type/Paste the paragraph: \")\n",
        "num_questions = int(input(\"Enter the number of questions: \"))\n",
        "\n",
        "# Generate and print the multiple-choice questions based on the user's input\n",
        "mca_questions = get_mca_questions(context, num_questions)\n",
        "print(\"Below are the Generated Multiple-Choice Questions:\")\n",
        "for question in mca_questions:\n",
        "    print(question)\n"
      ],
      "metadata": {
        "colab": {
          "base_uri": "https://localhost:8080/"
        },
        "id": "MYG0OpzmI9S_",
        "outputId": "da34bf9d-1da0-46a5-b892-a4d670085b5f"
      },
      "execution_count": 7,
      "outputs": [
        {
          "output_type": "stream",
          "name": "stdout",
          "text": [
            "Type/Paste the paragraph: Type/Paste the paragraph: On 12 August 1765, the Mughal emperor appointed the East India Company as the Diwan of Bengal. The actual event most probably took place in Robert Clive’s tent, with a few Englishmen and Indians as witnesses. But in the painting above, the event is shown as a majestic occasion, taking place in a grand setting. The painter was commissioned by Clive to record the memorable events in Clive’s life. The grant of Diwani clearly was one such event in British imagination. As Diwan, the Company became the chief financial administrator of the territory under its control. Now it had to think of administering the land and organising its revenue resources. This had to be done in a way that could yield enough revenue to meet the growing expenses of the company. A trading company had also to ensure that it could buy the products it needed and sell what it wanted. 3 Ruling the Countryside Rationalised 2023-24 RULING THE COUNTRYSIDE 27 Over the years, the Company also learnt that it had to move with some caution. Being an alien power, it needed to pacify those who in the past had ruled the countryside, and enjoyed authority and prestige. Those who had held local power had to be controlled but they could not be entirely eliminated. How was this to be done? In this chapter we will see how the Company came to colonise the countryside, organise revenue resources, redefine the rights of people, and produce the crops it wanted. Revenue for the Company The Company had become the Diwan, but it still saw itself primarily as a trader. It wanted a large revenue income but was unwilling to set up any regular system of assessment and collection. The effort was to increase the revenue as much as it could and buy fine cotton and silk cloth as cheaply as possible. Within five years, the value of goods bought by the Company in Bengal doubled. Before 1765, the Company had purchased goods in India by importing gold and silver from Britain. Now the revenue collected in Bengal could finance the purchase of goods for export. Soon it was clear that the Bengal economy was facing a deep crisis. Artisans were deserting villages since they were being forced to sell their goods to the Company at low prices. Peasants were unable to pay the dues that were being demanded from them. Artisanal production was in decline, and agricultural cultivation showed signs of collapse. Then in 1770, a terrible famine killed ten million people in Bengal. About one-third of the population was wiped out. The need to improve agriculture If the economy was in ruins, could the Company be certain of its revenue income? Most Company officials began to feel that investment in land had to be encouraged and agriculture had to be improved. How was this to be done? After two decades of debate on the question, the Company finally introduced the Permanent Settlement in 1793. By the terms of the settlement, the rajas and taluqdars were recognised as zamindars. They were asked to collect rent from the peasants and pay revenue to the Company. The amount to be paid was fixed permanently, that is, it was not to be increased ever in future. It was felt that this would ensure a regular flow of revenue into the Company’s coffers and at the same time encourage the zamindars to invest in improving the land. Since the revenue demand of the state would not be increased, the zamindar would benefit from increased production from the land. The problem The Permanent Settlement, however, created problems. Company officials soon discovered that the zamindars were in fact not investing in the improvement of land. The revenue that had been fixed was so high that the zamindars found it difficult to pay. Anyone who failed to pay the revenue lost his zamindari. Numerous zamindaris were sold off at auctions organised by the Company. By the first decade of the nineteenth century, the situation changed. The prices in the market rose and cultivation slowly expanded. This meant an increase in the income of the zamindars but no gain for the Company since it could not increase a revenue demand that had been fixed permanently. Even then the zamindars did not have an interest in improving the land. Some had lost their lands in the earlier years of the settlement; others now saw the possibility of earning without the trouble and risk of investment. As long as the zamindars could give out the land to tenants and get rent, they were not interested in improving the land.  On the other hand, in the villages, the cultivator found the system extremely oppressive. The rent he paid to the zamindar was high and his right on the land was insecure. To pay the rent he had to often take a loan from the moneylender, and when he failed to pay the rent, he was evicted from the land he had cultivated for generations. A new system is devised By the early nineteenth century, many of the Company officials were convinced that the system of revenue had to be changed again. How could revenues be fixed permanently at a time when the Company needed more money to meet its expenses of administration and trade? In the North Western Provinces of the Bengal Presidency (most of this area is now in Uttar Pradesh), an Englishman called Holt Mackenzie devised the new system which came into effect in 1822. He felt that the village was an important social institution in north Indian society and needed to be preserved. Under his directions, collectors went from village to village, inspecting the land, measuring the fields, and recording the customs and rights of different groups. The estimated revenue of each plot within a village was added up to calculate the revenue that each village (mahal) had to pay. This demand was to be revised periodically, not permanently fixed. The charge of collecting the revenue and paying it to the Company was given to the village headman, rather than the zamindar. This system came to be known as the mahalwari settlement.\n",
            "Enter the number of questions: 10\n",
            "Below are the Generated Multiple-Choice Questions:\n",
            "Q1: The rent he paid ______ the zamindar was high and his right on the land was insecure.\n",
            "1. two\n",
            "2. since\n",
            "3. village\n",
            "4. to\n",
            "5. as\n",
            "Correct Options: (d) & (a)\n",
            "\n",
            "Q2: ______ was this to be done?\n",
            "1. asked\n",
            "2. How\n",
            "3. this\n",
            "4. each\n",
            "5. had\n",
            "Correct Options: (b) & (a) & (e)\n",
            "\n",
            "Q3: , many of the Company officials were convinced that the system of revenue had to be ______ again.\n",
            "1. meet\n",
            "2. was\n",
            "3. event\n",
            "4. they\n",
            "5. changed\n",
            "Correct Options: (e) & (d)\n",
            "\n",
            "Q4: It wanted a large revenue income but was unwilling to ______ up any regular system of assessment and collection.\n",
            "1. money\n",
            "2. set\n",
            "3. the\n",
            "4. his\n",
            "5. Pradesh\n",
            "Correct Options: (b) & (d) & (a)\n",
            "\n",
            "Q5: ______\n",
            "1. the\n",
            "2. to\n",
            "3. 3\n",
            "4. fields\n",
            "5. revenue\n",
            "Correct Options: (c) & (e) & (a)\n",
            "\n",
            "Q6: The rent he paid to the zamindar ______ high and his right on the land ______ insecure.\n",
            "1. to\n",
            "2. the\n",
            "3. was\n",
            "4. century\n",
            "5. that\n",
            "Correct Options: (c) & (b) & (d)\n",
            "\n",
            "Q7: ______ was this to be done?\n",
            "1. revenue\n",
            "2. paid\n",
            "3. place\n",
            "4. at\n",
            "5. How\n",
            "Correct Options: (e) & (a) & (b)\n",
            "\n",
            "Q8: , many ______ the Company ______ficials were convinced that the system ______ revenue had to be changed again.\n",
            "1. million\n",
            "2. of\n",
            "3. as\n",
            "4. be\n",
            "5. was\n",
            "Correct Options: (b) & (d)\n",
            "\n",
            "Q9: Revenue for the Company The Company had become the Diwan, but ______ still saw ______self primarily as a trader.\n",
            "1. organise\n",
            "2. however\n",
            "3. Diwan\n",
            "4. it\n",
            "5. goods\n",
            "Correct Options: (d) & (b)\n",
            "\n",
            "Q10: The actual event most probably took place in Robert Clive’s tent, with a ______ Englishmen and Indians as witnesses.\n",
            "1. is\n",
            "2. it\n",
            "3. at\n",
            "4. few\n",
            "5. setting\n",
            "Correct Options: (d) & (b)\n",
            "\n"
          ]
        }
      ]
    },
    {
      "cell_type": "markdown",
      "source": [
        "- The `get_mca_questions` function is designed to generate multiple-choice questions based on the provided context and the specified number of questions.\n",
        "- The function first processes the input paragraph using the loaded language model, `nlp`.\n",
        "- It defines a nested function, `generate_mcq_with_multiple_correct`, to create a multiple-choice question with multiple correct answers by shuffling the options.\n",
        "- Another nested function, `generate_variety_question`, is utilized to produce diverse questions with randomized blank spaces, enhancing the variety and complexity of the questions.\n",
        "- The function generates a list of multiple-choice questions based on the randomly generated questions.\n",
        "- It formats the generated questions and their options into a human-readable form.\n",
        "- The function accepts user input for the paragraph and the number of questions to generate.\n",
        "- It prints the generated multiple-choice questions based on the user's input.\n",
        "\n",
        "This comprehensive implementation ensures the dynamic generation of engaging multiple-choice questions, enhancing the assessment experience for the users."
      ],
      "metadata": {
        "id": "X49qIPjjas50"
      }
    },
    {
      "cell_type": "markdown",
      "source": [
        "# **Ending Statement**"
      ],
      "metadata": {
        "id": "Y7uxeOARcD0U"
      }
    },
    {
      "cell_type": "markdown",
      "source": [
        "\n",
        "In conclusion, the developed solution effectively addresses the challenge outlined in the problem statement, enabling the automated generation of engaging and challenging multiple-choice questions with multiple correct answers based on the provided context. By leveraging advanced natural language processing techniques and intelligent question generation algorithms, The code allows you to input a paragraph, and it generates multiple-choice questions based on that paragraph with blank spaces. The answer options are also randomly selected from the text, providing a variety of MCQs for a stimulating learning environment."
      ],
      "metadata": {
        "id": "KlGIpRrqb_q3"
      }
    }
  ]
}